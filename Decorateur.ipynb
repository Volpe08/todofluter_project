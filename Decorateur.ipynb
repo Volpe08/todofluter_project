{
 "cells": [
  {
   "cell_type": "code",
   "execution_count": 8,
   "metadata": {},
   "outputs": [
    {
     "name": "stdout",
     "output_type": "stream",
     "text": [
      "1.3687357290036744\n",
      "Help on function bouclette in module __main__:\n",
      "\n",
      "bouclette(n)\n",
      "    Fonction qui boucle 100000000 de fois avant de retourner 42\n",
      "\n"
     ]
    },
    {
     "data": {
      "text/plain": [
       "'bouclette'"
      ]
     },
     "execution_count": 8,
     "metadata": {},
     "output_type": "execute_result"
    }
   ],
   "source": [
    "from time import perf_counter as NOW\n",
    "from functools import wraps\n",
    "\n",
    "\n",
    "def chrono(f):\n",
    "    def ma_fonction_chrono():\n",
    "        debut = NOW()\n",
    "        res = f()\n",
    "        fin = NOW()\n",
    "        print(fin-debut)\n",
    "        return res\n",
    "    return ma_fonction_chrono\n",
    "\n",
    "\n",
    "\n",
    "def timer(f):\n",
    "    @wraps(f)\n",
    "    def my_timed_f(*args, **kwargs):\n",
    "        \"\"\"Fonction interne décorateur\"\"\"\n",
    "        t0 = NOW()\n",
    "        res = f(*args, **kwargs)\n",
    "        t1 = NOW()\n",
    "        print(t1-t0)\n",
    "        return res\n",
    "    return my_timed_f\n",
    "\n",
    "\n",
    "@timer\n",
    "\n",
    "def bouclette(n):\n",
    "    \"\"\"Fonction qui boucle 100000000 de fois avant de retourner 42\"\"\"\n",
    "    for i in range(n):\n",
    "        pass\n",
    "    return 42\n",
    "bouclette(100000000)\n",
    "\n",
    "\n",
    "help(bouclette)\n",
    "bouclette.__name__"
   ]
  }
 ],
 "metadata": {
  "kernelspec": {
   "display_name": "Python 3.10.4 64-bit",
   "language": "python",
   "name": "python3"
  },
  "language_info": {
   "codemirror_mode": {
    "name": "ipython",
    "version": 3
   },
   "file_extension": ".py",
   "mimetype": "text/x-python",
   "name": "python",
   "nbconvert_exporter": "python",
   "pygments_lexer": "ipython3",
   "version": "3.10.4"
  },
  "orig_nbformat": 4,
  "vscode": {
   "interpreter": {
    "hash": "e7370f93d1d0cde622a1f8e1c04877d8463912d04d973331ad4851f04de6915a"
   }
  }
 },
 "nbformat": 4,
 "nbformat_minor": 2
}
