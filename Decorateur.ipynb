{
 "cells": [
  {
   "cell_type": "code",
   "execution_count": 8,
   "metadata": {},
   "outputs": [
    {
     "name": "stdout",
     "output_type": "stream",
     "text": [
      "1.3726694759970997\n"
     ]
    },
    {
     "data": {
      "text/plain": [
       "42"
      ]
     },
     "execution_count": 8,
     "metadata": {},
     "output_type": "execute_result"
    }
   ],
   "source": [
    "from time import perf_counter as NOW\n",
    "\n",
    "\n",
    "def chrono(f):\n",
    "    def ma_fonction_chrono():\n",
    "        debut = NOW()\n",
    "        res = f()\n",
    "        fin = NOW()\n",
    "        print(fin-debut)\n",
    "        return res\n",
    "    return ma_fonction_chrono\n",
    "\n",
    "\n",
    "@chrono\n",
    "\n",
    "def bouclette():\n",
    "    for i in range(100000000):\n",
    "        pass\n",
    "    return 42\n",
    "bouclette()"
   ]
  }
 ],
 "metadata": {
  "kernelspec": {
   "display_name": "Python 3.10.4 64-bit",
   "language": "python",
   "name": "python3"
  },
  "language_info": {
   "codemirror_mode": {
    "name": "ipython",
    "version": 3
   },
   "file_extension": ".py",
   "mimetype": "text/x-python",
   "name": "python",
   "nbconvert_exporter": "python",
   "pygments_lexer": "ipython3",
   "version": "3.10.4"
  },
  "orig_nbformat": 4,
  "vscode": {
   "interpreter": {
    "hash": "e7370f93d1d0cde622a1f8e1c04877d8463912d04d973331ad4851f04de6915a"
   }
  }
 },
 "nbformat": 4,
 "nbformat_minor": 2
}
