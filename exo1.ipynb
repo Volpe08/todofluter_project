{
 "cells": [
  {
   "cell_type": "code",
   "execution_count": 59,
   "metadata": {},
   "outputs": [
    {
     "ename": "ModuleNotFoundError",
     "evalue": "No module named 'mechanicalsoup'",
     "output_type": "error",
     "traceback": [
      "\u001b[0;31m---------------------------------------------------------------------------\u001b[0m",
      "\u001b[0;31mModuleNotFoundError\u001b[0m                       Traceback (most recent call last)",
      "\u001b[0;32m/tmp/ipykernel_5707/2774779756.py\u001b[0m in \u001b[0;36m<module>\u001b[0;34m\u001b[0m\n\u001b[1;32m      2\u001b[0m \u001b[0;32mimport\u001b[0m \u001b[0mre\u001b[0m\u001b[0;34m\u001b[0m\u001b[0;34m\u001b[0m\u001b[0m\n\u001b[1;32m      3\u001b[0m \u001b[0;32mfrom\u001b[0m \u001b[0mbs4\u001b[0m \u001b[0;32mimport\u001b[0m \u001b[0mBeautifulSoup\u001b[0m\u001b[0;34m\u001b[0m\u001b[0;34m\u001b[0m\u001b[0m\n\u001b[0;32m----> 4\u001b[0;31m \u001b[0;32mimport\u001b[0m \u001b[0mmechanicalsoup\u001b[0m\u001b[0;34m\u001b[0m\u001b[0;34m\u001b[0m\u001b[0m\n\u001b[0m\u001b[1;32m      5\u001b[0m \u001b[0;34m\u001b[0m\u001b[0m\n\u001b[1;32m      6\u001b[0m \"\"\"UNI = requests.get(\"https://stackoverflow.com/questions/tagged/beautifulsoup\")\n",
      "\u001b[0;31mModuleNotFoundError\u001b[0m: No module named 'mechanicalsoup'"
     ]
    }
   ],
   "source": [
    "import requests\n",
    "import re\n",
    "from bs4 import BeautifulSoup\n",
    "import mechanicalsoup\n",
    "\n",
    "\"\"\"UNI = requests.get(\"https://stackoverflow.com/questions/tagged/beautifulsoup\")\n",
    "soup = BeautifulSoup(UNI.text, \"lxml\")\n",
    "\n",
    "divs = soup.find_all('div', class_=\"s-post-summary js-post-summary\")\n",
    "for div in divs:\n",
    "    child = div.h3\n",
    "    print(child.text)\n",
    "\n",
    "divs = soup.find_all('div', class_=\"s-post-summary--stats-item s-post-summary--stats-item__emphasized\")\n",
    "for div in divs:\n",
    "    child = div.find_all('span', class_=\"s-post-summary--stats-item-number\")\n",
    "    for children in child:\n",
    "        print(children.text)\n",
    "def get_definition (x) :\n",
    "    \n",
    "    URL = 'https://www.oxfordlearnersdictionaries.com/definition/english/{0}'.format(x)\n",
    "    print(URL)\n",
    "    html = requests.get(URL)\n",
    "    soup = BeautifulSoup(html.text, \"lxml\")\n",
    "    print(soup)\n",
    "\n",
    "\n",
    "\n",
    "get_definition(\"alternative\")\"\"\"\n",
    "\n",
    "\n",
    "\n",
    "def get_formation():\n",
    "    URL = \"https://formation.univ-orleans.fr/fr/formation/rechercher-une-formation.html#nav\"\n",
    "\n",
    "    \n",
    "    html = requests.post(URL)\n",
    "    #print(html.status_code)\n",
    "    #print(html.text)\n",
    "    soup = BeautifulSoup(html.text, \"lxml\")\n",
    "    #print(soup)\n",
    "    script_text = str(soup.select_one(\"script\"))    \n",
    "\n",
    "    print(script_text)\n",
    "\n",
    "\n",
    "\n",
    "\n",
    "\n",
    "# 1\n",
    "browser = mechanicalsoup.Browser()\n",
    "url = \"https://formation.univ-orleans.fr/fr/formation/rechercher-une-formation.html#nav\"\n",
    "login_page = browser.get(url)\n",
    "login_html = login_page.soup\n",
    "\n",
    "# 2\n",
    "form = login_html.select(\"form\")[0]\n",
    "form.select(\"input\")[2][\"value\"] = \"DP\"\n",
    "\n",
    "# 3\n",
    "profiles_page = browser.submit(form, login_page.url)\n"
   ]
  }
 ],
 "metadata": {
  "kernelspec": {
   "display_name": "Python 3.10.4 64-bit",
   "language": "python",
   "name": "python3"
  },
  "language_info": {
   "codemirror_mode": {
    "name": "ipython",
    "version": 3
   },
   "file_extension": ".py",
   "mimetype": "text/x-python",
   "name": "python",
   "nbconvert_exporter": "python",
   "pygments_lexer": "ipython3",
   "version": "3.10.4"
  },
  "orig_nbformat": 4,
  "vscode": {
   "interpreter": {
    "hash": "e7370f93d1d0cde622a1f8e1c04877d8463912d04d973331ad4851f04de6915a"
   }
  }
 },
 "nbformat": 4,
 "nbformat_minor": 2
}
