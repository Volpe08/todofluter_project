{
 "cells": [
  {
   "cell_type": "code",
   "execution_count": 22,
   "metadata": {},
   "outputs": [
    {
     "name": "stdout",
     "output_type": "stream",
     "text": [
      "[]\n"
     ]
    }
   ],
   "source": [
    "import requests\n",
    "from bs4 import BeautifulSoup\n",
    "\"\"\"UNI = requests.get(\"https://stackoverflow.com/questions/tagged/beautifulsoup\")\n",
    "soup = BeautifulSoup(UNI.text, \"lxml\")\n",
    "\n",
    "divs = soup.find_all('div', class_=\"s-post-summary js-post-summary\")\n",
    "for div in divs:\n",
    "    child = div.h3\n",
    "    print(child.text)\n",
    "\n",
    "divs = soup.find_all('div', class_=\"s-post-summary--stats-item s-post-summary--stats-item__emphasized\")\n",
    "for div in divs:\n",
    "    child = div.find_all('span', class_=\"s-post-summary--stats-item-number\")\n",
    "    for children in child:\n",
    "        print(children.text)\n",
    "def get_definition (x) :\n",
    "    \n",
    "    URL = 'https://www.oxfordlearnersdictionaries.com/definition/english/{0}'.format(x)\n",
    "    print(URL)\n",
    "    html = requests.get(URL)\n",
    "    soup = BeautifulSoup(html.text, \"lxml\")\n",
    "    print(soup)\n",
    "\n",
    "\n",
    "\n",
    "get_definition(\"alternative\")\"\"\"\n",
    "\n",
    "\n",
    "\n",
    "def get_formation():\n",
    "    URL = \"https://formation.univ-orleans.fr/fr/formation/rechercher-une-formation.html#nav\"\n",
    "\n",
    "    data = {\n",
    "    'degree': 'DP',\n",
    "    }\n",
    "    html = requests.get(URL, json=data)\n",
    "    soup = BeautifulSoup(html.text, \"lxml\")\n",
    "    #print(soup)\n",
    "    divs = soup.find_all('div', class_ = \"results\")\n",
    "    print(divs)\n",
    "    for div in divs:\n",
    "        print(div)\n",
    "\n",
    "\n",
    "get_formation()\n",
    "\n",
    "    \n"
   ]
  }
 ],
 "metadata": {
  "kernelspec": {
   "display_name": "Python 3.10.4 64-bit",
   "language": "python",
   "name": "python3"
  },
  "language_info": {
   "codemirror_mode": {
    "name": "ipython",
    "version": 3
   },
   "file_extension": ".py",
   "mimetype": "text/x-python",
   "name": "python",
   "nbconvert_exporter": "python",
   "pygments_lexer": "ipython3",
   "version": "3.10.4"
  },
  "orig_nbformat": 4,
  "vscode": {
   "interpreter": {
    "hash": "e7370f93d1d0cde622a1f8e1c04877d8463912d04d973331ad4851f04de6915a"
   }
  }
 },
 "nbformat": 4,
 "nbformat_minor": 2
}
