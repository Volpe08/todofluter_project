{
 "cells": [
  {
   "cell_type": "code",
   "execution_count": 13,
   "metadata": {},
   "outputs": [
    {
     "name": "stdout",
     "output_type": "stream",
     "text": [
      "288760\n",
      "light in the room now, a thousand times brighter than\n",
      "the night\n",
      "light he must have seen it: no thought of waiting to be attacked\n",
      "appears from first to last to have visited his subtle mind; he would\n",
      "not even hold off till the night\n",
      "light her white dress might\n",
      "have been the night\n"
     ]
    }
   ],
   "source": [
    "#Prendre un text via une requete pour le web\n",
    "\n",
    "import requests, re\n",
    "\n",
    "\n",
    "url = \"http://gutenberg.org/files/16/16-0.txt\"\n",
    "r = requests.get(url)\n",
    "peterPan = r.text\n",
    "print(len(r.text))\n",
    "#Tout ce qui commence par the et ce fini par un point\n",
    "#it = re.finditer('(The [^.]*)\\.', peterPan)\n",
    "#Tout ce qui commence par Light et ce fini par night\n",
    "it = re.finditer('(light [^.]*)night', peterPan)\n",
    "\n",
    "\n",
    "for i in it : \n",
    "    print(i.group())"
   ]
  }
 ],
 "metadata": {
  "kernelspec": {
   "display_name": "Python 3.10.4 64-bit",
   "language": "python",
   "name": "python3"
  },
  "language_info": {
   "codemirror_mode": {
    "name": "ipython",
    "version": 3
   },
   "file_extension": ".py",
   "mimetype": "text/x-python",
   "name": "python",
   "nbconvert_exporter": "python",
   "pygments_lexer": "ipython3",
   "version": "3.10.4"
  },
  "orig_nbformat": 4,
  "vscode": {
   "interpreter": {
    "hash": "e7370f93d1d0cde622a1f8e1c04877d8463912d04d973331ad4851f04de6915a"
   }
  }
 },
 "nbformat": 4,
 "nbformat_minor": 2
}
